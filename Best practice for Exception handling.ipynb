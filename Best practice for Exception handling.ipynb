{
 "cells": [
  {
   "cell_type": "code",
   "execution_count": 1,
   "id": "025c4e1f-08bc-4ffc-bcc0-01105f7baa0a",
   "metadata": {},
   "outputs": [
    {
     "name": "stdout",
     "output_type": "stream",
     "text": [
      "division by zero\n"
     ]
    }
   ],
   "source": [
    "#use always specific exception\n",
    "try :\n",
    "    10/0\n",
    "except Exception as e:\n",
    "    print(e)\n",
    "    #it is right code but it is not a correct way for Exception handling.always do first specfic handling not genric handingf\n",
    "    "
   ]
  },
  {
   "cell_type": "code",
   "execution_count": 3,
   "id": "c3450b43-e6ae-4ec1-9120-9eeb1dd60dd8",
   "metadata": {},
   "outputs": [
    {
     "name": "stdout",
     "output_type": "stream",
     "text": [
      "division by zero\n"
     ]
    }
   ],
   "source": [
    "try :\n",
    "    10/0\n",
    "except ZeroDivisionError as e:\n",
    "    print(e)"
   ]
  },
  {
   "cell_type": "code",
   "execution_count": 4,
   "id": "d3e3b1d9-616c-4a78-8e27-155841fd627d",
   "metadata": {},
   "outputs": [
    {
     "name": "stdout",
     "output_type": "stream",
     "text": [
      "I am trying to handle zerodivionerror division by zero\n"
     ]
    }
   ],
   "source": [
    "\n",
    "#print always  a proper msg..\n",
    "try :\n",
    "    10/0\n",
    "except ZeroDivisionError as e:\n",
    "    print(\"I am trying to handle zerodivionerror\",e)\n",
    "\n",
    "\n"
   ]
  },
  {
   "cell_type": "code",
   "execution_count": 7,
   "id": "c48a4992-62e5-4454-8a66-25a6b17022f5",
   "metadata": {},
   "outputs": [],
   "source": [
    "#alway try to logg your error instead of write print use logging\n",
    "import logging\n",
    "logging.basicConfig(filename=\"error.log\",level =logging.ERROR)\n",
    "try :\n",
    "    10/0\n",
    "except ZeroDivisionError as e:\n",
    "    logging.error(\"I am trying to handle zerodivionerror {}\".format(e)) #it is helful for other peeson in future to check the logging  file .what type error we find.then no ones is able to investigate in code."
   ]
  },
  {
   "cell_type": "code",
   "execution_count": 8,
   "id": "5308de58-12cc-49af-b3d5-5685eeaad20b",
   "metadata": {},
   "outputs": [],
   "source": [
    "#always avoid to write a multiple  exception handling.\n",
    "import logging\n",
    "logging.basicConfig(filename=\"error.log\",level =logging.ERROR)\n",
    "try :\n",
    "    10/0\n",
    "except FileNotFoundError as e:\n",
    "    logging.error(\"I am trying to handle filenotfound error {}\".format(e))\n",
    "except AttributeError as e:\n",
    "    logging.error(\"I am trying to handle Attribute error {}\".format(e))\n",
    "except ZeroDivisionError as e:\n",
    "    logging.error(\"I am trying to handle zerodivionerror {}\".format(e))# it is not best practice."
   ]
  },
  {
   "cell_type": "code",
   "execution_count": 10,
   "id": "0d22262e-b085-4551-b97c-a9cb460ba381",
   "metadata": {},
   "outputs": [],
   "source": [
    "#document all the error. with proper meaning\n",
    "#cleaning up all the resorces.\n",
    "try:\n",
    "    with open(\"test.txt\",\"w\") as f:\n",
    "        f.write(\"this is my  data to file\") #  we to close the file .if we dont close it show gltch to avois this, if succesfully runs or unsecesfully runs, we have to close it because we utilze the resource  then we have to clean up also.\n",
    "except FileNotFoundError as e:\n",
    "    logging.error(\"I am trying to handle filenotfound error {}\".format(e))\n",
    "finally:\n",
    "    f.close()"
   ]
  },
  {
   "cell_type": "code",
   "execution_count": null,
   "id": "103da98b-2fac-4eb7-af07-1b864b8d8283",
   "metadata": {},
   "outputs": [],
   "source": []
  }
 ],
 "metadata": {
  "kernelspec": {
   "display_name": "Python 3 (ipykernel)",
   "language": "python",
   "name": "python3"
  },
  "language_info": {
   "codemirror_mode": {
    "name": "ipython",
    "version": 3
   },
   "file_extension": ".py",
   "mimetype": "text/x-python",
   "name": "python",
   "nbconvert_exporter": "python",
   "pygments_lexer": "ipython3",
   "version": "3.10.8"
  }
 },
 "nbformat": 4,
 "nbformat_minor": 5
}
