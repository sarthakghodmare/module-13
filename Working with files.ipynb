{
 "cells": [
  {
   "cell_type": "code",
   "execution_count": 83,
   "id": "18c1957e-c56c-4666-b111-f5f2a8f32062",
   "metadata": {},
   "outputs": [],
   "source": [
    "f =open(\"test.txt\",'w')"
   ]
  },
  {
   "cell_type": "code",
   "execution_count": 85,
   "id": "0b56b2df-023f-4784-9747-a172a9ff9594",
   "metadata": {},
   "outputs": [
    {
     "data": {
      "text/plain": [
       "'/home/jovyan/work/module 13'"
      ]
     },
     "execution_count": 85,
     "metadata": {},
     "output_type": "execute_result"
    }
   ],
   "source": [
    "pwd#present working directory,cd change directory."
   ]
  },
  {
   "cell_type": "code",
   "execution_count": 86,
   "id": "f4e82ef7-c8c2-4870-9308-1735d9b6d08d",
   "metadata": {},
   "outputs": [
    {
     "name": "stdout",
     "output_type": "stream",
     "text": [
      " copy_new.txt   new.txt   test.txt  'Working with files.ipynb'\n"
     ]
    }
   ],
   "source": [
    "ls"
   ]
  },
  {
   "cell_type": "code",
   "execution_count": 87,
   "id": "35ea0659-093b-46eb-9646-910b66c60d1c",
   "metadata": {},
   "outputs": [
    {
     "data": {
      "text/plain": [
       "21"
      ]
     },
     "execution_count": 87,
     "metadata": {},
     "output_type": "execute_result"
    }
   ],
   "source": [
    "f.write(\"this is my first file\")"
   ]
  },
  {
   "cell_type": "code",
   "execution_count": 88,
   "id": "ace794d8-8b55-475c-b2d9-fbd8c1f274c5",
   "metadata": {},
   "outputs": [],
   "source": [
    "f.close()"
   ]
  },
  {
   "cell_type": "code",
   "execution_count": 89,
   "id": "7f3a2d23-48c9-4436-ad38-27ed7c4b562c",
   "metadata": {},
   "outputs": [],
   "source": [
    "f =open(\"test.txt\",'w')"
   ]
  },
  {
   "cell_type": "code",
   "execution_count": 90,
   "id": "04dde038-0c90-4672-a577-d3fdbec533f1",
   "metadata": {},
   "outputs": [
    {
     "data": {
      "text/plain": [
       "15"
      ]
     },
     "execution_count": 90,
     "metadata": {},
     "output_type": "execute_result"
    }
   ],
   "source": [
    "f.write(\"this is my file\") # w is used for truncating the first file means flushing operation perform here,"
   ]
  },
  {
   "cell_type": "code",
   "execution_count": 91,
   "id": "48d52c81-be09-4c67-bd6e-fd240e8c3172",
   "metadata": {},
   "outputs": [],
   "source": [
    "f.close()"
   ]
  },
  {
   "cell_type": "code",
   "execution_count": 92,
   "id": "1264a85b-786f-4028-b97a-41d524d14d4a",
   "metadata": {},
   "outputs": [],
   "source": [
    "f =open(\"test.txt\",'a') #open in another mode a is used for open but not performing truncating opeartion performs appending operation. "
   ]
  },
  {
   "cell_type": "code",
   "execution_count": 93,
   "id": "9fab886d-4b76-4834-a3b1-26318002ccf0",
   "metadata": {},
   "outputs": [
    {
     "data": {
      "text/plain": [
       "317"
      ]
     },
     "execution_count": 93,
     "metadata": {},
     "output_type": "execute_result"
    }
   ],
   "source": [
    "f.write(\"Data science combines math and statistics, specialized programming, advanced analytics, artificial intelligence (AI) and machine learning with specific subject matter expertise to uncover actionable insights hidden in an organization’s data. These insights can be used to guide decision making and strategic planning.\")"
   ]
  },
  {
   "cell_type": "code",
   "execution_count": 94,
   "id": "fdf915ff-dcc0-410a-b6c7-42ac06853c89",
   "metadata": {},
   "outputs": [],
   "source": [
    "f.close()"
   ]
  },
  {
   "cell_type": "code",
   "execution_count": 95,
   "id": "0ef17302-6d0f-468e-bd15-3ad74a8e8eae",
   "metadata": {},
   "outputs": [],
   "source": [
    "data =open(\"test.txt\",'r')#opens in read mode."
   ]
  },
  {
   "cell_type": "code",
   "execution_count": 23,
   "id": "edacec61-f272-48eb-a05c-c4ac4a4f88b4",
   "metadata": {},
   "outputs": [
    {
     "data": {
      "text/plain": [
       "'this is my fileData science combines math and statistics, specialized programming, advanced analytics, artificial intelligence (AI) and machine learning with specific subject matter expertise to uncover actionable insights hidden in an organization’s data. These insights can be used to guide decision making and strategic planning.'"
      ]
     },
     "execution_count": 96,
     "metadata": {},
     "output_type": "execute_result"
    }
   ],
   "source": [
    "data.read()"
   ]
  },
  {
   "cell_type": "code",
   "execution_count": 27,
   "id": "9d71a6c0-fa35-4dd5-95a4-058a8e3e5392",
   "metadata": {},
   "outputs": [
    {
     "data": {
      "text/plain": [
       "''"
      ]
     },
     "execution_count": 97,
     "metadata": {},
     "output_type": "execute_result"
    }
   ],
   "source": [
    "#if we wnat to read line by line data.\n",
    "data.readline()#showing blank we know that in pointer or str perform indexing that we assign them index."
   ]
  },
  {
   "cell_type": "code",
   "execution_count": 98,
   "id": "22e306c0-5dd5-482e-bf21-36810c65147c",
   "metadata": {},
   "outputs": [
    {
     "data": {
      "text/plain": [
       "0"
      ]
     },
     "execution_count": 98,
     "metadata": {},
     "output_type": "execute_result"
    }
   ],
   "source": [
    "data.seek(0) #pointer goes to zeroth postion"
   ]
  },
  {
   "cell_type": "code",
   "execution_count": 99,
   "id": "cb63196f-0021-4a78-915a-3e416ac67823",
   "metadata": {},
   "outputs": [
    {
     "data": {
      "text/plain": [
       "'this is my fileData science combines math and statistics, specialized programming, advanced analytics, artificial intelligence (AI) and machine learning with specific subject matter expertise to uncover actionable insights hidden in an organization’s data. These insights can be used to guide decision making and strategic planning.'"
      ]
     },
     "execution_count": 99,
     "metadata": {},
     "output_type": "execute_result"
    }
   ],
   "source": [
    "data.readline()"
   ]
  },
  {
   "cell_type": "code",
   "execution_count": 100,
   "id": "6f7b9898-7865-4cb3-b77a-a0f86ad6fe2e",
   "metadata": {},
   "outputs": [
    {
     "data": {
      "text/plain": [
       "10"
      ]
     },
     "execution_count": 100,
     "metadata": {},
     "output_type": "execute_result"
    }
   ],
   "source": [
    "data.seek(10)#we can used to set cursor anywhere using seek."
   ]
  },
  {
   "cell_type": "code",
   "execution_count": 101,
   "id": "2088e1e7-b962-4e68-a61a-13f243b0bc85",
   "metadata": {},
   "outputs": [
    {
     "data": {
      "text/plain": [
       "' fileData science combines math and statistics, specialized programming, advanced analytics, artificial intelligence (AI) and machine learning with specific subject matter expertise to uncover actionable insights hidden in an organization’s data. These insights can be used to guide decision making and strategic planning.'"
      ]
     },
     "execution_count": 101,
     "metadata": {},
     "output_type": "execute_result"
    }
   ],
   "source": [
    "data.readline()"
   ]
  },
  {
   "cell_type": "code",
   "execution_count": 102,
   "id": "45a797df-646a-41e6-92f1-83cdb396291d",
   "metadata": {},
   "outputs": [],
   "source": [
    "data1=open(\"test.txt\",'r')"
   ]
  },
  {
   "cell_type": "code",
   "execution_count": 103,
   "id": "792f3c5e-9af9-43cd-96ea-bb683f51b4fb",
   "metadata": {},
   "outputs": [
    {
     "name": "stdout",
     "output_type": "stream",
     "text": [
      "this is my fileData science combines math and statistics, specialized programming, advanced analytics, artificial intelligence (AI) and machine learning with specific subject matter expertise to uncover actionable insights hidden in an organization’s data. These insights can be used to guide decision making and strategic planning.\n"
     ]
    }
   ],
   "source": [
    "for i in data1:\n",
    "    print(i) #line data throw in case of for loop in above case   all at a time."
   ]
  },
  {
   "cell_type": "code",
   "execution_count": 104,
   "id": "20aa1c91-6795-4496-a867-7907679f59d2",
   "metadata": {},
   "outputs": [],
   "source": [
    "import os #operating system module"
   ]
  },
  {
   "cell_type": "code",
   "execution_count": 105,
   "id": "b183f25d-1486-4e00-ba61-11b5ba8bd14a",
   "metadata": {},
   "outputs": [
    {
     "data": {
      "text/plain": [
       "334"
      ]
     },
     "execution_count": 105,
     "metadata": {},
     "output_type": "execute_result"
    }
   ],
   "source": [
    "os.path.getsize(\"test.txt\") #byte "
   ]
  },
  {
   "cell_type": "code",
   "execution_count": 106,
   "id": "0cf2aa9e-5134-48b1-a8de-08759816a94d",
   "metadata": {},
   "outputs": [],
   "source": [
    "f =open(\"test1.txt\",'w')"
   ]
  },
  {
   "cell_type": "code",
   "execution_count": 107,
   "id": "b15aa897-3130-424b-af46-465dc508d788",
   "metadata": {},
   "outputs": [],
   "source": [
    "os.remove(\"test1.txt\")"
   ]
  },
  {
   "cell_type": "code",
   "execution_count": 108,
   "id": "060ccd8a-fb09-4fa4-bf76-45bf076454c6",
   "metadata": {},
   "outputs": [],
   "source": [
    "f =open(\"test2.txt\",'w')"
   ]
  },
  {
   "cell_type": "code",
   "execution_count": 109,
   "id": "d86327ac-31ca-46cb-a725-2f49460070db",
   "metadata": {},
   "outputs": [
    {
     "data": {
      "text/plain": [
       "332"
      ]
     },
     "execution_count": 109,
     "metadata": {},
     "output_type": "execute_result"
    }
   ],
   "source": [
    "f.write(\"this is my fileData science combines math and statistics, specialized programming, advanced analytics, artificial intelligence (AI) and machine learning with specific subject matter expertise to uncover actionable insights hidden in an organization’s data. These insights can be used to guide decision making and strategic planning.\")"
   ]
  },
  {
   "cell_type": "code",
   "execution_count": 110,
   "id": "24b5ff54-6cf5-452d-96c6-e8275a206717",
   "metadata": {},
   "outputs": [],
   "source": [
    "f.close()"
   ]
  },
  {
   "cell_type": "code",
   "execution_count": 111,
   "id": "12acb091-8ff1-49f8-b002-1d86300a273a",
   "metadata": {},
   "outputs": [],
   "source": [
    "os.rename(\"test2.txt\",\"new.txt\") #rename the file test2.txt\" to new.txt"
   ]
  },
  {
   "cell_type": "code",
   "execution_count": 112,
   "id": "b267569b-7b2a-4131-93c6-cca8c62c5d25",
   "metadata": {},
   "outputs": [],
   "source": [
    "import shutil #copy package"
   ]
  },
  {
   "cell_type": "code",
   "execution_count": 113,
   "id": "e4cfc2a5-3a5e-4332-8903-453528a4f1fe",
   "metadata": {},
   "outputs": [
    {
     "data": {
      "text/plain": [
       "'copy_new.txt'"
      ]
     },
     "execution_count": 113,
     "metadata": {},
     "output_type": "execute_result"
    }
   ],
   "source": [
    "shutil.copy(\"new.txt\",\"copy_new.txt\") #creting copy file of new.txt"
   ]
  },
  {
   "cell_type": "code",
   "execution_count": 119,
   "id": "bd9f4640-472e-45e8-ab1c-a6325358fc3a",
   "metadata": {},
   "outputs": [
    {
     "name": "stdout",
     "output_type": "stream",
     "text": [
      "this is my fileData science combines math and statistics, specialized programming, advanced analytics, artificial intelligence (AI) and machine learning with specific subject matter expertise to uncover actionable insights hidden in an organization’s data. These insights can be used to guide decision making and strategic planning.\n"
     ]
    }
   ],
   "source": [
    "with open(\"new.txt\",'r') as f:\n",
    "    print(f.read())"
   ]
  },
  {
   "cell_type": "code",
   "execution_count": null,
   "id": "65e3c0fd-b80e-422f-a690-62f691b1c918",
   "metadata": {},
   "outputs": [],
   "source": []
  },
  {
   "cell_type": "code",
   "execution_count": null,
   "id": "83cca66e-7c70-4d64-96b5-667b2e72698f",
   "metadata": {},
   "outputs": [],
   "source": []
  }
 ],
 "metadata": {
  "kernelspec": {
   "display_name": "Python 3 (ipykernel)",
   "language": "python",
   "name": "python3"
  },
  "language_info": {
   "codemirror_mode": {
    "name": "ipython",
    "version": 3
   },
   "file_extension": ".py",
   "mimetype": "text/x-python",
   "name": "python",
   "nbconvert_exporter": "python",
   "pygments_lexer": "ipython3",
   "version": "3.10.8"
  }
 },
 "nbformat": 4,
 "nbformat_minor": 5
}
