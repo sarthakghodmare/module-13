{
 "cells": [
  {
   "cell_type": "code",
   "execution_count": 1,
   "id": "ffc7f55e-bfa4-4b8a-b76b-4a8ca2daf6ad",
   "metadata": {},
   "outputs": [
    {
     "name": "stdout",
     "output_type": "stream",
     "text": [
      "this is my print\n"
     ]
    }
   ],
   "source": [
    "print(\"this is my print\")# print in the console we does not use futher aspect/investecaion..primnt is bad practice in production grade of  code.. it does not store permant data.. therefore the permant solnn is logging."
   ]
  },
  {
   "cell_type": "code",
   "execution_count": 2,
   "id": "22ed6c3e-1c6d-44f7-82c1-b094c956d0e7",
   "metadata": {},
   "outputs": [],
   "source": [
    "import logging #package"
   ]
  },
  {
   "cell_type": "code",
   "execution_count": 3,
   "id": "e704a204-c8a7-401f-916d-6f72f547bd36",
   "metadata": {},
   "outputs": [],
   "source": [
    "logging.basicConfig(filename = \"test.log\",level = logging.INFO) #basic configration in the form of dict.. level difineing.. this file is available in harddisc.."
   ]
  },
  {
   "cell_type": "code",
   "execution_count": 4,
   "id": "a3b1d47f-e16e-4053-95ee-949e90367851",
   "metadata": {},
   "outputs": [],
   "source": [
    "logging.info(\"log this line of execution\")\n"
   ]
  },
  {
   "cell_type": "code",
   "execution_count": 5,
   "id": "5e273c9c-9923-45d0-8ae8-5c14d34fa8e4",
   "metadata": {},
   "outputs": [],
   "source": [
    "logging.info(\"this is my print\")"
   ]
  },
  {
   "cell_type": "code",
   "execution_count": 6,
   "id": "b61caca7-d9cf-44e8-ae05-4dc4da2ff695",
   "metadata": {},
   "outputs": [],
   "source": [
    "logging.debug(\"this is my debug\") #this is not working because logging set as INFO."
   ]
  },
  {
   "cell_type": "code",
   "execution_count": 7,
   "id": "4d1f2987-e7af-4e57-b53b-3c7781ddc2a4",
   "metadata": {},
   "outputs": [],
   "source": [
    "logging.warning(\"this is my warnig\")"
   ]
  },
  {
   "cell_type": "code",
   "execution_count": 8,
   "id": "c46579ff-31db-4cdb-88b4-c101d133dd21",
   "metadata": {},
   "outputs": [],
   "source": [
    "logging.error(\"this is my error\")"
   ]
  },
  {
   "cell_type": "code",
   "execution_count": 9,
   "id": "34e53a8e-60d4-4f50-8b15-4564efa47e2c",
   "metadata": {},
   "outputs": [],
   "source": [
    "logging.critical(\"this is my crtical\")"
   ]
  },
  {
   "cell_type": "code",
   "execution_count": 10,
   "id": "ff3ba171-3d5b-4ea0-9e77-8471c64eb5b5",
   "metadata": {},
   "outputs": [],
   "source": [
    "logging.shutdown()"
   ]
  },
  {
   "cell_type": "code",
   "execution_count": 12,
   "id": "21924258-1ada-47c3-a2cf-efd9c6704c0b",
   "metadata": {},
   "outputs": [],
   "source": [
    "#instead of writing print by default we must use logging."
   ]
  },
  {
   "cell_type": "code",
   "execution_count": 11,
   "id": "62bc727b-83c1-4a3f-a6f7-9abed6d5132c",
   "metadata": {},
   "outputs": [],
   "source": [
    "import logging"
   ]
  },
  {
   "cell_type": "code",
   "execution_count": 12,
   "id": "d94105d9-f644-4ad2-a297-a36a61c3578f",
   "metadata": {},
   "outputs": [],
   "source": [
    "logging.basicConfig(filename =\"test1.log\",level =logging.DEBUG, format = '%(asctime)s %(message)s' )"
   ]
  },
  {
   "cell_type": "code",
   "execution_count": 13,
   "id": "aa441e64-37ff-4c33-a932-77fe766a56a7",
   "metadata": {},
   "outputs": [],
   "source": [
    "logging.info(\"this is my info logging \")\n",
    "logging.error(\"this is my error\")\n",
    "logging.critical(\"this is my critical\")"
   ]
  },
  {
   "cell_type": "code",
   "execution_count": 14,
   "id": "f537ea02-b0d3-425d-8efc-d60f859d312c",
   "metadata": {},
   "outputs": [],
   "source": [
    "logging.shutdown()"
   ]
  },
  {
   "cell_type": "code",
   "execution_count": 9,
   "id": "280547f7-517b-46a7-a4a9-728704cc7913",
   "metadata": {},
   "outputs": [],
   "source": [
    "import logging"
   ]
  },
  {
   "cell_type": "code",
   "execution_count": 10,
   "id": "c99365b9-937e-412c-9a2e-7e44a2d3487b",
   "metadata": {},
   "outputs": [],
   "source": [
    "logging.basicConfig(filename =\"test2.log\",level =logging.DEBUG, format = '%(asctime)s %(name)s %(levelname)s %(message)s' )"
   ]
  },
  {
   "cell_type": "code",
   "execution_count": 11,
   "id": "5aab850e-3f96-45b1-a564-0bb08a083ca2",
   "metadata": {},
   "outputs": [],
   "source": [
    "logging.info(\"this is my info logging \")\n",
    "logging.error(\"this is my error\")\n",
    "logging.critical(\"this is my critical\")"
   ]
  },
  {
   "cell_type": "code",
   "execution_count": 12,
   "id": "5300940b-e073-403f-8dec-b1b4eb68a310",
   "metadata": {},
   "outputs": [],
   "source": [
    "l=[12,234,4,[2,4,3],\"sart\",\"kumar\"]"
   ]
  },
  {
   "cell_type": "code",
   "execution_count": 23,
   "id": "b0acf816-6b18-441a-8dab-df5476aeac6e",
   "metadata": {},
   "outputs": [],
   "source": [
    "l1_int=[]\n",
    "l2_str=[]\n",
    "for i in l:\n",
    "    logging.info(\"we are iterating through our list  and our local var  is i {}\". format(l))#placeholder.\n",
    "    if type(i) == list:\n",
    "        logging.info(\" i am inside if statement  and i am trying  to check list type\"+str(i))\n",
    "        for j in i:\n",
    "            logging.info(\" i am another inside FOR LOOP for list inside list element\"+str(j))\n",
    "            if type(j) == int:\n",
    "                logging.info(\" i am inside if statement\")\n",
    "                l1_int.append(j)\n",
    "    elif type(i) == int:\n",
    "        l1_int.append(i)\n",
    "    else:\n",
    "        l2_str.append(i)\n",
    "logging.info(\"my  final result for int is {l1} and str is {l2}\".format(l1 = l1_int, l2=l2_str))\n",
    "        \n",
    "                "
   ]
  },
  {
   "cell_type": "code",
   "execution_count": 14,
   "id": "e20f94a0-49bd-4d22-b926-9c53980a5d53",
   "metadata": {},
   "outputs": [
    {
     "data": {
      "text/plain": [
       "[12, 234, 4, 2, 4, 3]"
      ]
     },
     "execution_count": 14,
     "metadata": {},
     "output_type": "execute_result"
    }
   ],
   "source": [
    "l1_int"
   ]
  },
  {
   "cell_type": "code",
   "execution_count": 15,
   "id": "100c79c2-638f-407a-a82b-f9e4c58f203d",
   "metadata": {},
   "outputs": [
    {
     "data": {
      "text/plain": [
       "['sart', 'kumar']"
      ]
     },
     "execution_count": 15,
     "metadata": {},
     "output_type": "execute_result"
    }
   ],
   "source": [
    "l2_str"
   ]
  },
  {
   "cell_type": "code",
   "execution_count": null,
   "id": "f65a9dfc-4b38-442f-a88b-d5fe097007d0",
   "metadata": {},
   "outputs": [],
   "source": [
    "#debug means parce line"
   ]
  }
 ],
 "metadata": {
  "kernelspec": {
   "display_name": "Python 3 (ipykernel)",
   "language": "python",
   "name": "python3"
  },
  "language_info": {
   "codemirror_mode": {
    "name": "ipython",
    "version": 3
   },
   "file_extension": ".py",
   "mimetype": "text/x-python",
   "name": "python",
   "nbconvert_exporter": "python",
   "pygments_lexer": "ipython3",
   "version": "3.10.8"
  }
 },
 "nbformat": 4,
 "nbformat_minor": 5
}
