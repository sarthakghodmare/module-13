{
 "cells": [
  {
   "cell_type": "code",
   "execution_count": 1,
   "id": "9fbec280-5d16-41b2-a498-5b2924afbde6",
   "metadata": {},
   "outputs": [],
   "source": [
    "# it is not important topic in pythom it is handlied by os sperating system.#multithraeding:in quad core system  has inside 4 processor there.in core1 programmm no1 running and similar in all 4 core.but we want to run muliple programm in  1core\n",
    "#in python there iis 2 library 1.thread it is depricted nowadays 2.threading it is useful. by using these we succefull run a multiple programm in 1 core.\n"
   ]
  },
  {
   "cell_type": "code",
   "execution_count": 2,
   "id": "c6e35493-c8b6-438b-b58b-5570ecb35738",
   "metadata": {},
   "outputs": [],
   "source": [
    "import threading "
   ]
  },
  {
   "cell_type": "code",
   "execution_count": 7,
   "id": "50fd7faa-e3c2-4df4-9aee-e80e557193b4",
   "metadata": {},
   "outputs": [],
   "source": [
    "def test(id):\n",
    "    print(\"prog start %d\"% id) #we give placeholder id."
   ]
  },
  {
   "cell_type": "code",
   "execution_count": 8,
   "id": "b1980f42-a408-42fb-b868-59f11c014083",
   "metadata": {},
   "outputs": [
    {
     "name": "stdout",
     "output_type": "stream",
     "text": [
      "prog start 45\n"
     ]
    }
   ],
   "source": [
    "test(45)#prinnt the id."
   ]
  },
  {
   "cell_type": "code",
   "execution_count": 12,
   "id": "18222cef-ab02-4a98-a724-8a6442a92483",
   "metadata": {},
   "outputs": [],
   "source": [
    "thread=[threading.Thread(target=test,args=(i,))for i in range(10)] #inisise we gave target function.basically in 1core we make multiple thread/programm.#how many times we want to run then we use for loop,.we make list compressing operation. in thread variable we want to run in 1core 10 programm with different argument suppose id =0,1..."
   ]
  },
  {
   "cell_type": "code",
   "execution_count": 14,
   "id": "2f7f0b8f-c70a-4b18-8cbb-75c92a50c2b2",
   "metadata": {},
   "outputs": [
    {
     "name": "stdout",
     "output_type": "stream",
     "text": [
      "prog start 0\n",
      "prog start 1\n",
      "prog start 2\n",
      "prog start 3\n",
      "prog start 4\n",
      "prog start 5\n",
      "prog start 6\n",
      "prog start 7\n",
      "prog start 8\n",
      "prog start 9\n"
     ]
    }
   ],
   "source": [
    "for t in thread:\n",
    "    t.start()#basically program is one we make multiple instances."
   ]
  },
  {
   "cell_type": "code",
   "execution_count": 15,
   "id": "af127f57-8313-47dc-a968-9476d7c7b813",
   "metadata": {},
   "outputs": [
    {
     "data": {
      "text/plain": [
       "[0, 1, 2, 3, 4, 5, 6, 7, 8, 9]"
      ]
     },
     "execution_count": 15,
     "metadata": {},
     "output_type": "execute_result"
    }
   ],
   "source": [
    "list(range(10))"
   ]
  },
  {
   "cell_type": "code",
   "execution_count": 16,
   "id": "63ced866-ca77-4135-812e-9a5390435774",
   "metadata": {},
   "outputs": [
    {
     "data": {
      "text/plain": [
       "[<Thread(Thread-15 (test), stopped 139646740710976)>,\n",
       " <Thread(Thread-16 (test), stopped 139646740710976)>,\n",
       " <Thread(Thread-17 (test), stopped 139646740710976)>,\n",
       " <Thread(Thread-18 (test), stopped 139646740710976)>,\n",
       " <Thread(Thread-19 (test), stopped 139646740710976)>,\n",
       " <Thread(Thread-20 (test), stopped 139646740710976)>,\n",
       " <Thread(Thread-21 (test), stopped 139646740710976)>,\n",
       " <Thread(Thread-22 (test), stopped 139646740710976)>,\n",
       " <Thread(Thread-23 (test), stopped 139646740710976)>,\n",
       " <Thread(Thread-24 (test), stopped 139646740710976)>]"
      ]
     },
     "execution_count": 16,
     "metadata": {},
     "output_type": "execute_result"
    }
   ],
   "source": [
    "thread"
   ]
  },
  {
   "cell_type": "code",
   "execution_count": 17,
   "id": "e5b0a939-df86-4494-9d72-dc69c8c8d21f",
   "metadata": {},
   "outputs": [
    {
     "data": {
      "text/plain": [
       "139646741556352"
      ]
     },
     "execution_count": 17,
     "metadata": {},
     "output_type": "execute_result"
    }
   ],
   "source": [
    "id(thread)#basically it runs in single process/core with multiple instances.#make sure we make one programm and use as differnet input.."
   ]
  },
  {
   "cell_type": "code",
   "execution_count": 18,
   "id": "e90e83ee-731b-48cf-9649-49efcb1a4a72",
   "metadata": {},
   "outputs": [],
   "source": [
    "#we make core usinf multipple filoe.\n",
    "import threading\n",
    "import urllib.request #we take multiple from internet.if our one file is availble in github location, and another available in next location.both fiel data  line by line from github location to store in system.or local..\n",
    "\n",
    "def file_download(url,filename):\n",
    "    urllib.request.urlretrieve(url,filename) #it helps file to push. whatever fiel name we gave all data retrive in that file.# if we want 3 dataa/or txt file we crete these 3 times progreamm alterenarte is crete 1 core and crete multiple instance"
   ]
  },
  {
   "cell_type": "code",
   "execution_count": 20,
   "id": "9ed59bb9-1935-4db9-b918-eec86c36265d",
   "metadata": {},
   "outputs": [],
   "source": [
    "file_download(\"https://github.com/sarthakghodmare/Assignment/blob/main/2Assignment.ipynb\",\"test.txt\")#if we want to runs sepertaly#url is has python extension but we crete in txt extension .#basically from github it available in local system."
   ]
  },
  {
   "cell_type": "code",
   "execution_count": 21,
   "id": "8189d1f7-8432-41be-81c2-8a918228ceaa",
   "metadata": {},
   "outputs": [],
   "source": [
    "url_list =['https://github.com/Bo0oM/fuzz.txt/blob/master/extensions.txt','https://github.com/Bo0oM/fuzz.txt/blob/master/fuzz.txt']"
   ]
  },
  {
   "cell_type": "code",
   "execution_count": 22,
   "id": "88738f06-a24b-4f1d-9358-b0196391f415",
   "metadata": {},
   "outputs": [
    {
     "data": {
      "text/plain": [
       "['https://github.com/Bo0oM/fuzz.txt/blob/master/extensions.txt',\n",
       " 'https://github.com/Bo0oM/fuzz.txt/blob/master/fuzz.txt']"
      ]
     },
     "execution_count": 22,
     "metadata": {},
     "output_type": "execute_result"
    }
   ],
   "source": [
    "url_list"
   ]
  },
  {
   "cell_type": "code",
   "execution_count": 23,
   "id": "4dc1e82a-bf24-4246-aa1f-e28786d7b2e8",
   "metadata": {},
   "outputs": [],
   "source": [
    "file_name_list=[\"data1.txt\",\"data2.txt\"] "
   ]
  },
  {
   "cell_type": "code",
   "execution_count": 25,
   "id": "3c514988-35d1-4bb9-9557-b4a1ef6a80cb",
   "metadata": {},
   "outputs": [],
   "source": [
    "thre=[threading.Thread(target=file_download,args=(url_list[i],file_name_list[i])) for i in range(len(url_list))]# 2times first time invoke url and then file.0 index gave 1 url qnd 1 file..and next index so on."
   ]
  },
  {
   "cell_type": "code",
   "execution_count": 26,
   "id": "4a40070a-e45c-4ea7-b8b6-3f3de2762e10",
   "metadata": {},
   "outputs": [
    {
     "data": {
      "text/plain": [
       "[<Thread(Thread-25 (file_download), initial)>,\n",
       " <Thread(Thread-26 (file_download), initial)>]"
      ]
     },
     "execution_count": 26,
     "metadata": {},
     "output_type": "execute_result"
    }
   ],
   "source": [
    "thre#crete 2 thre of fun file_download #line by line exceuted thread.basicalaly it takes fun and then pass argument. one by one execute by using for loop."
   ]
  },
  {
   "cell_type": "code",
   "execution_count": 28,
   "id": "cb14b1ee-4764-4af8-bf58-6636a37ff384",
   "metadata": {},
   "outputs": [],
   "source": [
    "for t in thre:\n",
    "    t.start()"
   ]
  },
  {
   "cell_type": "code",
   "execution_count": 29,
   "id": "781dc90a-03f8-4270-af67-0713572221f6",
   "metadata": {},
   "outputs": [
    {
     "data": {
      "text/plain": [
       "[<Thread(Thread-25 (file_download), stopped 139646740710976)>,\n",
       " <Thread(Thread-26 (file_download), stopped 139646713443904)>]"
      ]
     },
     "execution_count": 29,
     "metadata": {},
     "output_type": "execute_result"
    }
   ],
   "source": [
    "thre "
   ]
  },
  {
   "cell_type": "code",
   "execution_count": 30,
   "id": "ccc70f3e-a95b-4675-a22b-e19b4fd3533e",
   "metadata": {},
   "outputs": [
    {
     "data": {
      "text/plain": [
       "139646717303360"
      ]
     },
     "execution_count": 30,
     "metadata": {},
     "output_type": "execute_result"
    }
   ],
   "source": [
    "id(thre)# in these id file downloaded."
   ]
  },
  {
   "cell_type": "code",
   "execution_count": 32,
   "id": "2513ac7f-3e03-4587-bbc7-ac8d4bf1e0d0",
   "metadata": {},
   "outputs": [],
   "source": [
    "import time\n"
   ]
  },
  {
   "cell_type": "code",
   "execution_count": 37,
   "id": "2a3e30a5-73c9-403e-aa63-b1c37c7b534c",
   "metadata": {},
   "outputs": [],
   "source": [
    "def test1(id):\n",
    "    for i in range(10):\n",
    "        print(\"test1 %d printing %d \"%(id,i))\n",
    "        time.sleep(1)"
   ]
  },
  {
   "cell_type": "code",
   "execution_count": 38,
   "id": "ba444da8-7324-440a-aaae-c1542628dba5",
   "metadata": {},
   "outputs": [
    {
     "name": "stdout",
     "output_type": "stream",
     "text": [
      "test1 1 printing 0 \n",
      "test1 1 printing 1 \n",
      "test1 1 printing 2 \n",
      "test1 1 printing 3 \n",
      "test1 1 printing 4 \n",
      "test1 1 printing 5 \n",
      "test1 1 printing 6 \n",
      "test1 1 printing 7 \n",
      "test1 1 printing 8 \n",
      "test1 1 printing 9 \n"
     ]
    }
   ],
   "source": [
    "test1(1)#if gives id =1.id is contant that is 1. but print i gives in range of 10 caalling.\n",
    "#this programmm gives output  stopping becasue we use time and sleep . programm slep for 1 msec. then 1 by 1 print."
   ]
  },
  {
   "cell_type": "code",
   "execution_count": 40,
   "id": "354460f9-b516-4abe-8883-57d1801416a9",
   "metadata": {},
   "outputs": [],
   "source": [
    "#what is benift of sleep.\n",
    "thread1=[threading.Thread(target=test1,args=(i,)) for i in range(3)] # we want to print thread1 3 times."
   ]
  },
  {
   "cell_type": "code",
   "execution_count": 41,
   "id": "9154ea51-069e-48d7-a771-2ec109766278",
   "metadata": {},
   "outputs": [
    {
     "name": "stdout",
     "output_type": "stream",
     "text": [
      "test1 0 printing 0 \n",
      "test1 1 printing 0 \n",
      "test1 2 printing 0 \n",
      "test1 0 printing 1 \n",
      "test1 1 printing 1 \n",
      "test1 2 printing 1 \n",
      "test1 0 printing 2 \n",
      "test1 1 printing 2 \n",
      "test1 2 printing 2 \n",
      "test1 0 printing 3 \n",
      "test1 1 printing 3 \n",
      "test1 2 printing 3 \n",
      "test1 1 printing 4 test1 0 printing 4 \n",
      "\n",
      "test1 2 printing 4 \n",
      "test1 0 printing 5 test1 1 printing 5 \n",
      "\n",
      "test1 2 printing 5 \n",
      "test1 1 printing 6 test1 0 printing 6 \n",
      "\n",
      "test1 2 printing 6 \n",
      "test1 0 printing 7 test1 1 printing 7 \n",
      "\n",
      "test1 2 printing 7 \n",
      "test1 1 printing 8 \n",
      "test1 0 printing 8 \n",
      "test1 2 printing 8 \n",
      "test1 1 printing 9 \n",
      "test1 0 printing 9 \n",
      "test1 2 printing 9 \n"
     ]
    }
   ],
   "source": [
    "for t in thread1:\n",
    "    t.start()"
   ]
  },
  {
   "cell_type": "code",
   "execution_count": 42,
   "id": "0f304f79-0321-4095-bf1c-6aad97513c61",
   "metadata": {},
   "outputs": [],
   "source": [
    "def test1(id):\n",
    "    for i in range(10):\n",
    "        print(\"test1 %d printing %d \"%(id,i))\n",
    "        "
   ]
  },
  {
   "cell_type": "code",
   "execution_count": 43,
   "id": "8fbde098-a699-4d04-a2e2-301a94a2b933",
   "metadata": {},
   "outputs": [
    {
     "name": "stdout",
     "output_type": "stream",
     "text": [
      "test1 1 printing 0 \n",
      "test1 1 printing 1 \n",
      "test1 1 printing 2 \n",
      "test1 1 printing 3 \n",
      "test1 1 printing 4 \n",
      "test1 1 printing 5 \n",
      "test1 1 printing 6 \n",
      "test1 1 printing 7 \n",
      "test1 1 printing 8 \n",
      "test1 1 printing 9 \n"
     ]
    }
   ],
   "source": [
    "test1(1)"
   ]
  },
  {
   "cell_type": "code",
   "execution_count": 44,
   "id": "cce759c6-191b-490e-bd49-ea775933686d",
   "metadata": {},
   "outputs": [],
   "source": [
    "thread1=[threading.Thread(target=test1,args=(i,)) for i in range(3)]"
   ]
  },
  {
   "cell_type": "code",
   "execution_count": 45,
   "id": "19c992a1-4188-4622-a7a6-9b697fd06f21",
   "metadata": {},
   "outputs": [
    {
     "name": "stdout",
     "output_type": "stream",
     "text": [
      "test1 0 printing 0 \n",
      "test1 0 printing 1 \n",
      "test1 0 printing 2 \n",
      "test1 0 printing 3 \n",
      "test1 0 printing 4 \n",
      "test1 0 printing 5 \n",
      "test1 0 printing 6 \n",
      "test1 0 printing 7 \n",
      "test1 0 printing 8 \n",
      "test1 0 printing 9 \n",
      "test1 1 printing 0 \n",
      "test1 1 printing 1 \n",
      "test1 1 printing 2 \n",
      "test1 1 printing 3 \n",
      "test1 1 printing 4 \n",
      "test1 1 printing 5 \n",
      "test1 1 printing 6 \n",
      "test1 1 printing 7 \n",
      "test1 1 printing 8 \n",
      "test1 1 printing 9 \n",
      "test1 2 printing 0 \n",
      "test1 2 printing 1 \n",
      "test1 2 printing 2 \n",
      "test1 2 printing 3 \n",
      "test1 2 printing 4 \n",
      "test1 2 printing 5 \n",
      "test1 2 printing 6 \n",
      "test1 2 printing 7 \n",
      "test1 2 printing 8 \n",
      "test1 2 printing 9 \n"
     ]
    }
   ],
   "source": [
    "for t in thread1:\n",
    "    t.start() #if we donot use sleep it gives at a time it does not do start and stop.in that case for id =0  all printing.. similar to id = 2,and3. respectively.it does not do switch id and do programm like above case.it does not do context switching because we do not give time to sleep like we do in above case.in above case it does not give chance to complte full programm.it give chance other to complte their programm first."
   ]
  },
  {
   "cell_type": "code",
   "execution_count": 47,
   "id": "7143801a-9657-459c-835f-e0d26f150ca5",
   "metadata": {},
   "outputs": [],
   "source": [
    "def test1(id):\n",
    "    for i in range(10):\n",
    "        print(\"test1 %d printing %d %s  \"%(id,i,time.ctime()))\n",
    "        time.sleep(1)\n",
    "        "
   ]
  },
  {
   "cell_type": "code",
   "execution_count": 48,
   "id": "09b32241-ab13-4678-85d2-c04198925675",
   "metadata": {},
   "outputs": [
    {
     "name": "stdout",
     "output_type": "stream",
     "text": [
      "test1 1 printing 0 Thu Jul 11 16:19:52 2024  \n",
      "test1 1 printing 1 Thu Jul 11 16:19:53 2024  \n",
      "test1 1 printing 2 Thu Jul 11 16:19:54 2024  \n",
      "test1 1 printing 3 Thu Jul 11 16:19:55 2024  \n",
      "test1 1 printing 4 Thu Jul 11 16:19:56 2024  \n",
      "test1 1 printing 5 Thu Jul 11 16:19:57 2024  \n",
      "test1 1 printing 6 Thu Jul 11 16:19:58 2024  \n",
      "test1 1 printing 7 Thu Jul 11 16:19:59 2024  \n",
      "test1 1 printing 8 Thu Jul 11 16:20:00 2024  \n",
      "test1 1 printing 9 Thu Jul 11 16:20:01 2024  \n"
     ]
    }
   ],
   "source": [
    "test1(1)"
   ]
  },
  {
   "cell_type": "code",
   "execution_count": 49,
   "id": "d4437727-fe37-436e-ac20-89f0a2a13147",
   "metadata": {},
   "outputs": [],
   "source": [
    "thread1=[threading.Thread(target=test1,args=(i,)) for i in range(3)]\n"
   ]
  },
  {
   "cell_type": "code",
   "execution_count": 50,
   "id": "291a8b9a-2ed4-4d0b-83d3-796149d1a08a",
   "metadata": {},
   "outputs": [
    {
     "name": "stdout",
     "output_type": "stream",
     "text": [
      "test1 0 printing 0 Thu Jul 11 16:20:37 2024  \n",
      "test1 1 printing 0 Thu Jul 11 16:20:37 2024  \n",
      "test1 2 printing 0 Thu Jul 11 16:20:37 2024  \n",
      "test1 0 printing 1 Thu Jul 11 16:20:38 2024  test1 1 printing 1 Thu Jul 11 16:20:38 2024  \n",
      "test1 2 printing 1 Thu Jul 11 16:20:38 2024  \n",
      "\n",
      "test1 1 printing 2 Thu Jul 11 16:20:39 2024  \n",
      "test1 0 printing 2 Thu Jul 11 16:20:39 2024  \n",
      "test1 2 printing 2 Thu Jul 11 16:20:39 2024  \n",
      "test1 1 printing 3 Thu Jul 11 16:20:40 2024  test1 0 printing 3 Thu Jul 11 16:20:40 2024  \n",
      "test1 2 printing 3 Thu Jul 11 16:20:40 2024  \n",
      "\n",
      "test1 0 printing 4 Thu Jul 11 16:20:41 2024  \n",
      "test1 2 printing 4 Thu Jul 11 16:20:41 2024  \n",
      "test1 1 printing 4 Thu Jul 11 16:20:41 2024  \n",
      "test1 1 printing 5 Thu Jul 11 16:20:42 2024  \n",
      "test1 0 printing 5 Thu Jul 11 16:20:42 2024  \n",
      "test1 2 printing 5 Thu Jul 11 16:20:42 2024  \n",
      "test1 1 printing 6 Thu Jul 11 16:20:43 2024  test1 0 printing 6 Thu Jul 11 16:20:43 2024  \n",
      "\n",
      "test1 2 printing 6 Thu Jul 11 16:20:43 2024  \n",
      "test1 0 printing 7 Thu Jul 11 16:20:44 2024  test1 1 printing 7 Thu Jul 11 16:20:44 2024  \n",
      "\n",
      "test1 2 printing 7 Thu Jul 11 16:20:44 2024  \n",
      "test1 1 printing 8 Thu Jul 11 16:20:45 2024  test1 0 printing 8 Thu Jul 11 16:20:45 2024  \n",
      "\n",
      "test1 2 printing 8 Thu Jul 11 16:20:45 2024  \n",
      "test1 0 printing 9 Thu Jul 11 16:20:46 2024  test1 1 printing 9 Thu Jul 11 16:20:46 2024  \n",
      "\n",
      "test1 2 printing 9 Thu Jul 11 16:20:46 2024  \n"
     ]
    }
   ],
   "source": [
    "for t in thread1:\n",
    "    t.start()# in this case same programm run with differnt at same time."
   ]
  },
  {
   "cell_type": "code",
   "execution_count": 51,
   "id": "121c79a3-2ff0-4e4a-8491-07ae8b7a4d9d",
   "metadata": {},
   "outputs": [],
   "source": [
    "#shared resources.\n",
    "shared_var =0\n",
    "lock_var =threading.Lock()"
   ]
  },
  {
   "cell_type": "code",
   "execution_count": 58,
   "id": "0b99b4ed-30ef-42a8-9bf8-f1f2a59ec829",
   "metadata": {},
   "outputs": [
    {
     "name": "stdout",
     "output_type": "stream",
     "text": [
      "test2 is  is 0 has incresd by  shared varible by 1\n",
      "test2 is  is 1 has incresd by  shared varible by 2\n",
      "test2 is  is 2 has incresd by  shared varible by 3\n"
     ]
    }
   ],
   "source": [
    "#we make shared-var global.means whichever thread is working is accesible\n",
    "\n",
    "shared_var =0\n",
    "lock_var =threading.Lock()\n",
    "def test2(id):\n",
    "    global shared_var \n",
    "    with lock_var:\n",
    "        shared_var =shared_var+1\n",
    "        print(\"test2 is  is %d has incresd by  shared varible by %d\" %(id,shared_var))\n",
    "thread3=[threading.Thread(target=test2,args =(i,)) for i  in range(3)]    \n",
    "for t  in thread3:\n",
    "    t.start()"
   ]
  },
  {
   "cell_type": "code",
   "execution_count": 54,
   "id": "a140fd1e-5d99-4544-ab7c-ed873292e390",
   "metadata": {},
   "outputs": [],
   "source": []
  },
  {
   "cell_type": "code",
   "execution_count": 55,
   "id": "0582e3d1-60e9-482f-b482-7ab6e107209a",
   "metadata": {},
   "outputs": [
    {
     "data": {
      "text/plain": [
       "[<Thread(Thread-39 (test2), initial)>,\n",
       " <Thread(Thread-40 (test2), initial)>,\n",
       " <Thread(Thread-41 (test2), initial)>]"
      ]
     },
     "execution_count": 55,
     "metadata": {},
     "output_type": "execute_result"
    }
   ],
   "source": [
    "thread3 #all 3 programm incremaet the shared_var value. first call id=0 ,for 0 input. shared_var is increment or mofifid by 1."
   ]
  },
  {
   "cell_type": "code",
   "execution_count": 59,
   "id": "525653f2-cf3a-4179-8ccb-725468878c88",
   "metadata": {},
   "outputs": [
    {
     "name": "stdout",
     "output_type": "stream",
     "text": [
      "test2 is  is 0 has incresd by  shared varible by 1\n",
      "test2 is  is 1 has incresd by  shared varible by 2\n",
      "test2 is  is 2 has incresd by  shared varible by 3\n"
     ]
    }
   ],
   "source": [
    "shared_var =0\n",
    "lock_var =threading.Lock()\n",
    "def test2(id):\n",
    "    global shared_var #globsl used to modifed the variable or update.\n",
    "    with lock_var:\n",
    "        shared_var =shared_var+1\n",
    "        print(\"test2 is  is %d has incresd by  shared varible by %d\" %(id,shared_var))\n",
    "        time.sleep(1)\n",
    "thread3=[threading.Thread(target=test2,args =(i,)) for i  in range(3)]    \n",
    "for t  in thread3:\n",
    "    t.start()"
   ]
  },
  {
   "cell_type": "code",
   "execution_count": null,
   "id": "4aaf3f49-e1fd-4984-925d-a501ccef3621",
   "metadata": {},
   "outputs": [],
   "source": []
  }
 ],
 "metadata": {
  "kernelspec": {
   "display_name": "Python 3 (ipykernel)",
   "language": "python",
   "name": "python3"
  },
  "language_info": {
   "codemirror_mode": {
    "name": "ipython",
    "version": 3
   },
   "file_extension": ".py",
   "mimetype": "text/x-python",
   "name": "python",
   "nbconvert_exporter": "python",
   "pygments_lexer": "ipython3",
   "version": "3.10.8"
  }
 },
 "nbformat": 4,
 "nbformat_minor": 5
}
