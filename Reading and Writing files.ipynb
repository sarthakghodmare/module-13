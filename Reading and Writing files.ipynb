{
 "cells": [
  {
   "cell_type": "code",
   "execution_count": 1,
   "id": "1610d9a0-042e-40b8-83e4-306e4e442a8e",
   "metadata": {},
   "outputs": [],
   "source": [
    "data={\n",
    "    \"name\":\"sart\",\n",
    "    \"mail_id\":\"sartha@gmail.com\",\n",
    "    \"phone_number\":6735656767,\n",
    "    \"subject\":[\"data_science\" ,\"big_data\",\"data_analytics\"]\n",
    "} \n",
    "#is is also called json data set java scrpit object notation. data works on complexity."
   ]
  },
  {
   "cell_type": "code",
   "execution_count": 2,
   "id": "8e0d2e8e-43e2-4144-b385-848dec083bb7",
   "metadata": {},
   "outputs": [],
   "source": [
    "import json #whwnever key and value pair available we must use json."
   ]
  },
  {
   "cell_type": "code",
   "execution_count": 3,
   "id": "76ecfd36-5b16-4e58-b332-5bd4fcf3b2bc",
   "metadata": {},
   "outputs": [],
   "source": [
    "with open(\"data.json\",\"w\") as f:\n",
    "    json.dump(data,f) #dump is methdod used to write data . f is file object."
   ]
  },
  {
   "cell_type": "code",
   "execution_count": 8,
   "id": "805718d8-8124-405c-8346-134d6f440986",
   "metadata": {},
   "outputs": [],
   "source": [
    "with open(\"data.json\", \"r\")as f:\n",
    "    data1= json.load(f)"
   ]
  },
  {
   "cell_type": "code",
   "execution_count": 9,
   "id": "4b4d10dc-880b-4dbd-848d-9ff5a93f2b2a",
   "metadata": {},
   "outputs": [
    {
     "data": {
      "text/plain": [
       "{'name': 'sart',\n",
       " 'mail_id': 'sartha@gmail.com',\n",
       " 'phone_number': 6735656767,\n",
       " 'subject': ['data_science', 'big_data', 'data_analytics']}"
      ]
     },
     "execution_count": 9,
     "metadata": {},
     "output_type": "execute_result"
    }
   ],
   "source": [
    "data1"
   ]
  },
  {
   "cell_type": "code",
   "execution_count": 10,
   "id": "6c061870-1910-486b-8339-821dc59b7847",
   "metadata": {},
   "outputs": [
    {
     "data": {
      "text/plain": [
       "'big_data'"
      ]
     },
     "execution_count": 10,
     "metadata": {},
     "output_type": "execute_result"
    }
   ],
   "source": [
    "data1['subject'][1]\n"
   ]
  },
  {
   "cell_type": "code",
   "execution_count": 11,
   "id": "3abb5b5d-de25-4b11-9b5a-20c7ec8e906b",
   "metadata": {},
   "outputs": [],
   "source": [
    "import csv #comma separted value."
   ]
  },
  {
   "cell_type": "code",
   "execution_count": 12,
   "id": "45f22788-5d83-44c0-a021-616c3ee93c79",
   "metadata": {},
   "outputs": [],
   "source": [
    "data=[[\"name\" ,\"mail_id\",\"phone_number\"] ,#it used for creting colums.\n",
    "      [\"sarthak\",\"sarthak@gmail.com\",33432334],\n",
    "      [\"utkarsh\",\"utkarsh@gmail.com\",34353654],\n",
    "      [\"kris\",\"kris@gmail.com\",6768454545]\n",
    "     ]\n",
    "      "
   ]
  },
  {
   "cell_type": "code",
   "execution_count": 13,
   "id": "4e09645c-f946-4308-be86-7f1fd257ced9",
   "metadata": {},
   "outputs": [],
   "source": [
    "with open (\"data.csv\",\"w\") as f:\n",
    "    writer=csv.writer(f)#creting obj.\n",
    "    \n",
    "    for i in data: #to write line by data\n",
    "        writer.writerow(i) #delimeter is comma separter.\n",
    "    "
   ]
  },
  {
   "cell_type": "code",
   "execution_count": 14,
   "id": "93da5199-4811-4ae0-a2c3-15d20dc916e4",
   "metadata": {},
   "outputs": [
    {
     "name": "stdout",
     "output_type": "stream",
     "text": [
      "['name', 'mail_id', 'phone_number']\n",
      "['sarthak', 'sarthak@gmail.com', 33432334]\n",
      "['utkarsh', 'utkarsh@gmail.com', 34353654]\n",
      "['kris', 'kris@gmail.com', 6768454545]\n"
     ]
    }
   ],
   "source": [
    "with open(\"data.csv\",\"r\") as f:\n",
    "    read_data =csv.reader(f)\n",
    "    \n",
    "    for i in data:\n",
    "        print(i)"
   ]
  },
  {
   "cell_type": "code",
   "execution_count": 21,
   "id": "557fc9c0-604f-4435-a85e-9565db5c3c9a",
   "metadata": {},
   "outputs": [],
   "source": [
    "with open (\"test4.bin\",\"wb\") as f: #binary files in the form of  0 and 1\n",
    "    f.write(b\"\\x01\\x02\\x03\\x3434345\")\n",
    "    "
   ]
  },
  {
   "cell_type": "code",
   "execution_count": 22,
   "id": "d896e9f5-b493-4cce-b881-929b115f1ef1",
   "metadata": {},
   "outputs": [
    {
     "name": "stdout",
     "output_type": "stream",
     "text": [
      "b'\\x01\\x02\\x03434345'\n"
     ]
    }
   ],
   "source": [
    "with open (\"test4.bin\",\"rb\") as f:\n",
    "    print(f.read())"
   ]
  },
  {
   "cell_type": "code",
   "execution_count": null,
   "id": "0d88547c-9b3c-42e5-afa4-4273fe6fced7",
   "metadata": {},
   "outputs": [],
   "source": []
  }
 ],
 "metadata": {
  "kernelspec": {
   "display_name": "Python 3 (ipykernel)",
   "language": "python",
   "name": "python3"
  },
  "language_info": {
   "codemirror_mode": {
    "name": "ipython",
    "version": 3
   },
   "file_extension": ".py",
   "mimetype": "text/x-python",
   "name": "python",
   "nbconvert_exporter": "python",
   "pygments_lexer": "ipython3",
   "version": "3.10.8"
  }
 },
 "nbformat": 4,
 "nbformat_minor": 5
}
