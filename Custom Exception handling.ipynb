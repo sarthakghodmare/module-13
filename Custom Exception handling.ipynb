{
 "cells": [
  {
   "cell_type": "code",
   "execution_count": 1,
   "id": "75e7699c-9321-4c0f-8018-ba7b41e0f44c",
   "metadata": {},
   "outputs": [
    {
     "name": "stdin",
     "output_type": "stream",
     "text": [
      "enter your age -4\n"
     ]
    }
   ],
   "source": [
    "# if we want to raise execption then we use custom exception handling.\n",
    "age= int(input(\"enter your age\")) \n",
    "#in case of system these is not exception. but we want to raise exception..then we use custom exception.."
   ]
  },
  {
   "cell_type": "code",
   "execution_count": 12,
   "id": "79bc7230-7ce2-46cf-80a3-54160afe3e48",
   "metadata": {},
   "outputs": [],
   "source": [
    "class validateage(Exception): #exception class\n",
    "    \n",
    "    \n",
    "    def __init__(self,msg):\n",
    "        self.msg =msg"
   ]
  },
  {
   "cell_type": "code",
   "execution_count": 13,
   "id": "65b3c3da-ca28-4c9a-81bf-8e34eb82f5f8",
   "metadata": {},
   "outputs": [],
   "source": [
    "def validateage(age): #inherited class\n",
    "    if age < 0:\n",
    "        raise validateage(\"entered age is negative\")\n",
    "    elif age > 200:\n",
    "        raise validateage(\"entered age is very high\")\n",
    "    else:\n",
    "        print(\"age is valid\")\n",
    "        \n",
    "        "
   ]
  },
  {
   "cell_type": "code",
   "execution_count": 22,
   "id": "dbf0862f-3fe0-4db9-a1af-7703e51a0b0d",
   "metadata": {},
   "outputs": [
    {
     "name": "stdin",
     "output_type": "stream",
     "text": [
      "enter your age 7\n"
     ]
    },
    {
     "name": "stdout",
     "output_type": "stream",
     "text": [
      "age is valid\n"
     ]
    }
   ],
   "source": [
    "try:\n",
    "    age = int(input(\"enter your age\"))\n",
    "    validateage(age)\n",
    "except validateage as e:\n",
    "    print(e)\n",
    "    \n",
    "    \n",
    "    \n",
    "    "
   ]
  },
  {
   "cell_type": "code",
   "execution_count": null,
   "id": "ab96c74d-bf4b-4956-8f86-2e5dec777d26",
   "metadata": {},
   "outputs": [],
   "source": []
  }
 ],
 "metadata": {
  "kernelspec": {
   "display_name": "Python 3 (ipykernel)",
   "language": "python",
   "name": "python3"
  },
  "language_info": {
   "codemirror_mode": {
    "name": "ipython",
    "version": 3
   },
   "file_extension": ".py",
   "mimetype": "text/x-python",
   "name": "python",
   "nbconvert_exporter": "python",
   "pygments_lexer": "ipython3",
   "version": "3.10.8"
  }
 },
 "nbformat": 4,
 "nbformat_minor": 5
}
