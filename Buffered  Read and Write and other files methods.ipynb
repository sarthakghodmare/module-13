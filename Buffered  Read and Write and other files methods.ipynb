{
 "cells": [
  {
   "cell_type": "code",
   "execution_count": 1,
   "id": "91412ee7-7041-49ae-9d27-6d37e348ef00",
   "metadata": {},
   "outputs": [],
   "source": [
    "import io #input and output module. used to chuking the data."
   ]
  },
  {
   "cell_type": "code",
   "execution_count": 5,
   "id": "ea08be46-ec3e-406e-98c7-dbf79a922deb",
   "metadata": {},
   "outputs": [],
   "source": [
    "with open (\"test1.txt\",\"wb\") as f:\n",
    "    file = io.BufferedWriter(f)\n",
    "    \n",
    "    file.write(b\"this is my first line\\n\") # for buffer we have to close the file to show data in txt files. for close buffer use flush.\n",
    "    file.write(b\"this is my Second line\")\n",
    "    \n",
    "    file.flush()\n",
    "    "
   ]
  },
  {
   "cell_type": "code",
   "execution_count": 9,
   "id": "530b2844-df91-43ce-8954-e59596898984",
   "metadata": {},
   "outputs": [
    {
     "name": "stdout",
     "output_type": "stream",
     "text": [
      "b'this is my first line\\nthis is my Second line'\n"
     ]
    }
   ],
   "source": [
    "with open (\"test1.txt\",\"rb\") as f:\n",
    "    file= io.BufferedReader(f)\n",
    "    \n",
    "    print(file.read())"
   ]
  },
  {
   "cell_type": "code",
   "execution_count": null,
   "id": "ebfe5110-357e-4adb-ae72-7dba7cdbf62f",
   "metadata": {},
   "outputs": [],
   "source": []
  }
 ],
 "metadata": {
  "kernelspec": {
   "display_name": "Python 3 (ipykernel)",
   "language": "python",
   "name": "python3"
  },
  "language_info": {
   "codemirror_mode": {
    "name": "ipython",
    "version": 3
   },
   "file_extension": ".py",
   "mimetype": "text/x-python",
   "name": "python",
   "nbconvert_exporter": "python",
   "pygments_lexer": "ipython3",
   "version": "3.10.8"
  }
 },
 "nbformat": 4,
 "nbformat_minor": 5
}
